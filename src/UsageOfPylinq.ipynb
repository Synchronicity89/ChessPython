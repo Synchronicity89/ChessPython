{
 "cells": [
  {
   "cell_type": "code",
   "execution_count": 6,
   "metadata": {},
   "outputs": [
    {
     "name": "stdout",
     "output_type": "stream",
     "text": [
      "['other_value', 'other_value', 'other_value']\n"
     ]
    }
   ],
   "source": [
    "# Notebook code cell\n",
    "\n",
    "# Import the PyLinqData class\n",
    "from PyLinq import PyLinqData\n",
    "\n",
    "# Assuming you have a list of dictionaries called 'data'\n",
    "# Example usage of the PyLinqData class\n",
    "# create a numpy array called data\n",
    "import numpy as np\n",
    "\n",
    "data = np.array([{\"attribute\": \"value\", \"other_attribute\": \"other_value\"},\n",
    "                 {\"attribute\": \"value\", \"other_attribute\": \"other_value\"},\n",
    "                 {\"attribute\": \"value\", \"other_attribute\": \"other_value\"}])\n",
    "\n",
    "pylinq_data = PyLinqData(data)\n",
    "result = pylinq_data.Where(lambda x: x['attribute'] == \"value\").Select(lambda x: x['other_attribute'])\n",
    "print(list(result.data))\n",
    "\n",
    "\n",
    "class Employee:\n",
    "    def __init__(self, name, age, department):\n",
    "        self.Name = name\n",
    "        self.Age = age\n",
    "        self.Department = department\n"
   ]
  },
  {
   "cell_type": "code",
   "execution_count": 7,
   "metadata": {},
   "outputs": [],
   "source": [
    "employees = [\n",
    "    Employee(\"Alice\", 30, \"HR\"),\n",
    "    Employee(\"Bob\", 35, \"IT\"),\n",
    "    Employee(\"Charlie\", 40, \"Finance\"),\n",
    "    Employee(\"Diana\", 32, \"IT\"),\n",
    "    Employee(\"Evan\", 38, \"HR\"),\n",
    "]\n"
   ]
  },
  {
   "cell_type": "code",
   "execution_count": 8,
   "metadata": {},
   "outputs": [
    {
     "name": "stdout",
     "output_type": "stream",
     "text": [
      "['Bob', 'Diana']\n"
     ]
    }
   ],
   "source": [
    "it_employees = PyLinqData(employees).Where(lambda e: e.Department == \"IT\").Select(lambda e: e.Name)\n",
    "print(list(it_employees.data))  # Output: ['Bob', 'Diana']\n"
   ]
  },
  {
   "cell_type": "code",
   "execution_count": null,
   "metadata": {},
   "outputs": [],
   "source": []
  },
  {
   "cell_type": "code",
   "execution_count": null,
   "metadata": {},
   "outputs": [],
   "source": []
  },
  {
   "cell_type": "code",
   "execution_count": null,
   "metadata": {},
   "outputs": [],
   "source": []
  },
  {
   "cell_type": "code",
   "execution_count": null,
   "metadata": {},
   "outputs": [],
   "source": []
  }
 ],
 "metadata": {
  "kernelspec": {
   "display_name": "torchPlay",
   "language": "python",
   "name": "python3"
  },
  "language_info": {
   "codemirror_mode": {
    "name": "ipython",
    "version": 3
   },
   "file_extension": ".py",
   "mimetype": "text/x-python",
   "name": "python",
   "nbconvert_exporter": "python",
   "pygments_lexer": "ipython3",
   "version": "3.8.18"
  }
 },
 "nbformat": 4,
 "nbformat_minor": 2
}
